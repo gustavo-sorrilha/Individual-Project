{
  "cells": [
    {
      "cell_type": "markdown",
      "metadata": {
        "id": "view-in-github",
        "colab_type": "text"
      },
      "source": [
        "<a href=\"https://colab.research.google.com/github/gustavo-sorrilha/Individual-Project/blob/main/Aula_17_Introdu%C3%A7%C3%A3o_ao_Aprendizado_Supervisionado_Classifica%C3%A7%C3%A3o.ipynb\" target=\"_parent\"><img src=\"https://colab.research.google.com/assets/colab-badge.svg\" alt=\"Open In Colab\"/></a>"
      ]
    },
    {
      "cell_type": "markdown",
      "id": "dc2dbf66",
      "metadata": {
        "id": "dc2dbf66"
      },
      "source": [
        "# Aula 17 - Introdução ao Aprendizado Supervisionado: Classificação\n",
        "\n",
        "Nesta aula vamos estudar o uso de algoritmos de **Aprendizado de Máquina Supervisionado**. Focaremos nos algoritmos utilizados para **classificação**, que é a tarefa de predizer classes (rótulos categóricos) para conjuntos de dados (numéricos ou transformados em numéricos).\n",
        "\n",
        "Existem muitos algoritmos para se realizar essa tarefa, entre eles:\n",
        "- Regressão Logística\n",
        "- Análise de Discriminante Linear (LDA)\n",
        "- Análise de Discriminante Quadrático (QDA)\n",
        "- Naive Bayes\n",
        "- k-vizinhos mais próximos (KNN)\n",
        "- Máquina de Vetor Suporte (SVM)\n",
        "- Árvore de Decisão\n",
        "- RandomForest\n",
        "\n",
        "Cada uma dessas técnicas tem uma forte base matemática e conceitual. Os algoritmos foram propostos ao longo de diversas décadas e possuem diferentes cenários de aplicações. Não teremos tempo de ver cada um deles a fundo, nem mesmo todos eles. Iremos nos focar nos procedimentos básicos para se utilizar esses algoritmos.\n",
        "\n",
        "--------------------------"
      ]
    },
    {
      "cell_type": "markdown",
      "id": "b8333f3a",
      "metadata": {
        "id": "b8333f3a"
      },
      "source": [
        "## Exemplo 1 - Entomologia: Gafanhatos vs Esperanças\n",
        "\n",
        "![image-2.png](attachment:image-2.png)\n",
        "\n",
        "Foram medidos o comprimento das antenas e do abdômen de dois tipos de insetos: gafanhotos e esperanças. \n",
        "\n",
        "Trabalhamos com estes dados na aula 16. Agora iremos aprender a criar classificadores para eles"
      ]
    },
    {
      "cell_type": "markdown",
      "id": "1abb0999",
      "metadata": {
        "id": "1abb0999"
      },
      "source": [
        "### Exemplo 1 - Primeiro passo: carregar os dados e fazer Análise Exploratória\n",
        "\n",
        "Como já fizemos a Análise Exploratória com esses dados na outras aulas, iremos pular essa etapa."
      ]
    },
    {
      "cell_type": "code",
      "execution_count": null,
      "id": "d0c90eb6",
      "metadata": {
        "id": "d0c90eb6"
      },
      "outputs": [],
      "source": [
        "# Para trabalhar com dados em tabelas\n",
        "import pandas as pd\n",
        "\n",
        "# Para trabalhar com gráficos\n",
        "import matplotlib.pyplot as plt  \n",
        "import seaborn as sns"
      ]
    },
    {
      "cell_type": "code",
      "source": [
        "from google.colab import files\n",
        "uploaded = files.upload()"
      ],
      "metadata": {
        "colab": {
          "base_uri": "https://localhost:8080/",
          "height": 73
        },
        "id": "ATB3xC-JnG_M",
        "outputId": "a61cd5d3-ea75-40f7-f463-55bd7d06e9bb"
      },
      "id": "ATB3xC-JnG_M",
      "execution_count": null,
      "outputs": [
        {
          "output_type": "display_data",
          "data": {
            "text/plain": [
              "<IPython.core.display.HTML object>"
            ],
            "text/html": [
              "\n",
              "     <input type=\"file\" id=\"files-2601bbe5-1f7a-4723-ae25-cff8ef6c39ab\" name=\"files[]\" multiple disabled\n",
              "        style=\"border:none\" />\n",
              "     <output id=\"result-2601bbe5-1f7a-4723-ae25-cff8ef6c39ab\">\n",
              "      Upload widget is only available when the cell has been executed in the\n",
              "      current browser session. Please rerun this cell to enable.\n",
              "      </output>\n",
              "      <script>// Copyright 2017 Google LLC\n",
              "//\n",
              "// Licensed under the Apache License, Version 2.0 (the \"License\");\n",
              "// you may not use this file except in compliance with the License.\n",
              "// You may obtain a copy of the License at\n",
              "//\n",
              "//      http://www.apache.org/licenses/LICENSE-2.0\n",
              "//\n",
              "// Unless required by applicable law or agreed to in writing, software\n",
              "// distributed under the License is distributed on an \"AS IS\" BASIS,\n",
              "// WITHOUT WARRANTIES OR CONDITIONS OF ANY KIND, either express or implied.\n",
              "// See the License for the specific language governing permissions and\n",
              "// limitations under the License.\n",
              "\n",
              "/**\n",
              " * @fileoverview Helpers for google.colab Python module.\n",
              " */\n",
              "(function(scope) {\n",
              "function span(text, styleAttributes = {}) {\n",
              "  const element = document.createElement('span');\n",
              "  element.textContent = text;\n",
              "  for (const key of Object.keys(styleAttributes)) {\n",
              "    element.style[key] = styleAttributes[key];\n",
              "  }\n",
              "  return element;\n",
              "}\n",
              "\n",
              "// Max number of bytes which will be uploaded at a time.\n",
              "const MAX_PAYLOAD_SIZE = 100 * 1024;\n",
              "\n",
              "function _uploadFiles(inputId, outputId) {\n",
              "  const steps = uploadFilesStep(inputId, outputId);\n",
              "  const outputElement = document.getElementById(outputId);\n",
              "  // Cache steps on the outputElement to make it available for the next call\n",
              "  // to uploadFilesContinue from Python.\n",
              "  outputElement.steps = steps;\n",
              "\n",
              "  return _uploadFilesContinue(outputId);\n",
              "}\n",
              "\n",
              "// This is roughly an async generator (not supported in the browser yet),\n",
              "// where there are multiple asynchronous steps and the Python side is going\n",
              "// to poll for completion of each step.\n",
              "// This uses a Promise to block the python side on completion of each step,\n",
              "// then passes the result of the previous step as the input to the next step.\n",
              "function _uploadFilesContinue(outputId) {\n",
              "  const outputElement = document.getElementById(outputId);\n",
              "  const steps = outputElement.steps;\n",
              "\n",
              "  const next = steps.next(outputElement.lastPromiseValue);\n",
              "  return Promise.resolve(next.value.promise).then((value) => {\n",
              "    // Cache the last promise value to make it available to the next\n",
              "    // step of the generator.\n",
              "    outputElement.lastPromiseValue = value;\n",
              "    return next.value.response;\n",
              "  });\n",
              "}\n",
              "\n",
              "/**\n",
              " * Generator function which is called between each async step of the upload\n",
              " * process.\n",
              " * @param {string} inputId Element ID of the input file picker element.\n",
              " * @param {string} outputId Element ID of the output display.\n",
              " * @return {!Iterable<!Object>} Iterable of next steps.\n",
              " */\n",
              "function* uploadFilesStep(inputId, outputId) {\n",
              "  const inputElement = document.getElementById(inputId);\n",
              "  inputElement.disabled = false;\n",
              "\n",
              "  const outputElement = document.getElementById(outputId);\n",
              "  outputElement.innerHTML = '';\n",
              "\n",
              "  const pickedPromise = new Promise((resolve) => {\n",
              "    inputElement.addEventListener('change', (e) => {\n",
              "      resolve(e.target.files);\n",
              "    });\n",
              "  });\n",
              "\n",
              "  const cancel = document.createElement('button');\n",
              "  inputElement.parentElement.appendChild(cancel);\n",
              "  cancel.textContent = 'Cancel upload';\n",
              "  const cancelPromise = new Promise((resolve) => {\n",
              "    cancel.onclick = () => {\n",
              "      resolve(null);\n",
              "    };\n",
              "  });\n",
              "\n",
              "  // Wait for the user to pick the files.\n",
              "  const files = yield {\n",
              "    promise: Promise.race([pickedPromise, cancelPromise]),\n",
              "    response: {\n",
              "      action: 'starting',\n",
              "    }\n",
              "  };\n",
              "\n",
              "  cancel.remove();\n",
              "\n",
              "  // Disable the input element since further picks are not allowed.\n",
              "  inputElement.disabled = true;\n",
              "\n",
              "  if (!files) {\n",
              "    return {\n",
              "      response: {\n",
              "        action: 'complete',\n",
              "      }\n",
              "    };\n",
              "  }\n",
              "\n",
              "  for (const file of files) {\n",
              "    const li = document.createElement('li');\n",
              "    li.append(span(file.name, {fontWeight: 'bold'}));\n",
              "    li.append(span(\n",
              "        `(${file.type || 'n/a'}) - ${file.size} bytes, ` +\n",
              "        `last modified: ${\n",
              "            file.lastModifiedDate ? file.lastModifiedDate.toLocaleDateString() :\n",
              "                                    'n/a'} - `));\n",
              "    const percent = span('0% done');\n",
              "    li.appendChild(percent);\n",
              "\n",
              "    outputElement.appendChild(li);\n",
              "\n",
              "    const fileDataPromise = new Promise((resolve) => {\n",
              "      const reader = new FileReader();\n",
              "      reader.onload = (e) => {\n",
              "        resolve(e.target.result);\n",
              "      };\n",
              "      reader.readAsArrayBuffer(file);\n",
              "    });\n",
              "    // Wait for the data to be ready.\n",
              "    let fileData = yield {\n",
              "      promise: fileDataPromise,\n",
              "      response: {\n",
              "        action: 'continue',\n",
              "      }\n",
              "    };\n",
              "\n",
              "    // Use a chunked sending to avoid message size limits. See b/62115660.\n",
              "    let position = 0;\n",
              "    do {\n",
              "      const length = Math.min(fileData.byteLength - position, MAX_PAYLOAD_SIZE);\n",
              "      const chunk = new Uint8Array(fileData, position, length);\n",
              "      position += length;\n",
              "\n",
              "      const base64 = btoa(String.fromCharCode.apply(null, chunk));\n",
              "      yield {\n",
              "        response: {\n",
              "          action: 'append',\n",
              "          file: file.name,\n",
              "          data: base64,\n",
              "        },\n",
              "      };\n",
              "\n",
              "      let percentDone = fileData.byteLength === 0 ?\n",
              "          100 :\n",
              "          Math.round((position / fileData.byteLength) * 100);\n",
              "      percent.textContent = `${percentDone}% done`;\n",
              "\n",
              "    } while (position < fileData.byteLength);\n",
              "  }\n",
              "\n",
              "  // All done.\n",
              "  yield {\n",
              "    response: {\n",
              "      action: 'complete',\n",
              "    }\n",
              "  };\n",
              "}\n",
              "\n",
              "scope.google = scope.google || {};\n",
              "scope.google.colab = scope.google.colab || {};\n",
              "scope.google.colab._files = {\n",
              "  _uploadFiles,\n",
              "  _uploadFilesContinue,\n",
              "};\n",
              "})(self);\n",
              "</script> "
            ]
          },
          "metadata": {}
        },
        {
          "output_type": "stream",
          "name": "stdout",
          "text": [
            "Saving Formulário.csv to Formulário.csv\n"
          ]
        }
      ]
    },
    {
      "cell_type": "code",
      "execution_count": null,
      "id": "5d3c0970",
      "metadata": {
        "id": "5d3c0970"
      },
      "outputs": [],
      "source": [
        "dados = pd.read_csv('Formulário.csv') "
      ]
    },
    {
      "cell_type": "code",
      "execution_count": null,
      "id": "99db2f93",
      "metadata": {
        "colab": {
          "base_uri": "https://localhost:8080/",
          "height": 808
        },
        "id": "99db2f93",
        "outputId": "317624e0-6e27-418f-f3e0-032cb06c39e2"
      },
      "outputs": [
        {
          "output_type": "execute_result",
          "data": {
            "text/plain": [
              "  Carimbo de data/hora       Endereço de e-mail              Qual seu nome?  \\\n",
              "0  26/09/2022 22:28:00  felipemerlo08@gmail.com                Felipe Merlo   \n",
              "1  28/09/2022 19:23:10        gegeasy@gmail.com                     Gustavo   \n",
              "2  29/09/2022 11:11:52                      NaN    Kaue Caponero Figueiredo   \n",
              "3  29/09/2022 11:11:55                      NaN  Henrique Rodrigues Segura    \n",
              "4  29/09/2022 11:14:25                      NaN    Luiz Felipe Gadelha Melo   \n",
              "\n",
              "  Qual a sua faixa etária?  \\\n",
              "0         De 18 a 25 anos.   \n",
              "1         De 18 a 25 anos.   \n",
              "2         De 26 a 35 anos.   \n",
              "3         De 18 a 25 anos.   \n",
              "4         De 26 a 35 anos.   \n",
              "\n",
              "  Qual seu nível de conhecimento sobre o mercado financeiro?  \\\n",
              "0  Intermediário (Acompanho e invisto frequenteme...           \n",
              "1  Básico (Tenho pouco conhecimento mas não acomp...           \n",
              "2  Intermediário (Acompanho e invisto frequenteme...           \n",
              "3  Básico (Tenho pouco conhecimento mas não acomp...           \n",
              "4  Básico (Tenho pouco conhecimento mas não acomp...           \n",
              "\n",
              "  E sobre Oferta Pública Inicial (ou IPO), qual seu nível de conhecimento?\\n  \\\n",
              "0                  Básico (Tenho pouco conhecimento)                           \n",
              "1                  Básico (Tenho pouco conhecimento)                           \n",
              "2           Intermediário (Acompanho frequentemente)                           \n",
              "3                  Básico (Tenho pouco conhecimento)                           \n",
              "4                  Básico (Tenho pouco conhecimento)                           \n",
              "\n",
              "  Você teria interesse em fazer um curso dinâmico gratuito sobre IPO?  \\\n",
              "0                                                Sim                    \n",
              "1                                             Talvez                    \n",
              "2                                                Sim                    \n",
              "3                                                Sim                    \n",
              "4                                             Talvez                    \n",
              "\n",
              "  Qual forma de aprender você acha melhor?  \\\n",
              "0                              Vídeo Aulas   \n",
              "1                       Em formato de jogo   \n",
              "2                              Vídeo Aulas   \n",
              "3                              Vídeo Aulas   \n",
              "4                              Vídeo Aulas   \n",
              "\n",
              "   De 0 a 5, quão satisfeito você ficaria se recebesse uma ação de um IPO (gratuitamente) após o término do curso?  \\\n",
              "0                                                  5                                                                 \n",
              "1                                                  4                                                                 \n",
              "2                                                  5                                                                 \n",
              "3                                                  5                                                                 \n",
              "4                                                  5                                                                 \n",
              "\n",
              "   De 0 a 5, quão satisfeito você ficaria se tivesse que abrir a conta em uma corretora para receber esta ação de IPO?  \\\n",
              "0                                                  2                                                                     \n",
              "1                                                  1                                                                     \n",
              "2                                                  4                                                                     \n",
              "3                                                  4                                                                     \n",
              "4                                                  3                                                                     \n",
              "\n",
              "  Se ganhasse essa ação de um IPO, você provavelmente:  \\\n",
              "0              Manteria a ação a médio / longo prazo     \n",
              "1  Buscaria mais conhecimento e compraria mais ações     \n",
              "2  Buscaria mais conhecimento e compraria mais ações     \n",
              "3  Buscaria mais conhecimento e compraria mais ações     \n",
              "4              Manteria a ação a médio / longo prazo     \n",
              "\n",
              "  Você indicaria este curso para outras pessoas?  Unnamed: 12  \n",
              "0                                            Sim          1.0  \n",
              "1                                         Talvez          1.0  \n",
              "2                                            Sim          1.0  \n",
              "3                                            Sim          1.0  \n",
              "4                                            Sim          1.0  "
            ],
            "text/html": [
              "\n",
              "  <div id=\"df-53c2fc26-fb38-4157-afba-372f7a27f03e\">\n",
              "    <div class=\"colab-df-container\">\n",
              "      <div>\n",
              "<style scoped>\n",
              "    .dataframe tbody tr th:only-of-type {\n",
              "        vertical-align: middle;\n",
              "    }\n",
              "\n",
              "    .dataframe tbody tr th {\n",
              "        vertical-align: top;\n",
              "    }\n",
              "\n",
              "    .dataframe thead th {\n",
              "        text-align: right;\n",
              "    }\n",
              "</style>\n",
              "<table border=\"1\" class=\"dataframe\">\n",
              "  <thead>\n",
              "    <tr style=\"text-align: right;\">\n",
              "      <th></th>\n",
              "      <th>Carimbo de data/hora</th>\n",
              "      <th>Endereço de e-mail</th>\n",
              "      <th>Qual seu nome?</th>\n",
              "      <th>Qual a sua faixa etária?</th>\n",
              "      <th>Qual seu nível de conhecimento sobre o mercado financeiro?</th>\n",
              "      <th>E sobre Oferta Pública Inicial (ou IPO), qual seu nível de conhecimento?\\n</th>\n",
              "      <th>Você teria interesse em fazer um curso dinâmico gratuito sobre IPO?</th>\n",
              "      <th>Qual forma de aprender você acha melhor?</th>\n",
              "      <th>De 0 a 5, quão satisfeito você ficaria se recebesse uma ação de um IPO (gratuitamente) após o término do curso?</th>\n",
              "      <th>De 0 a 5, quão satisfeito você ficaria se tivesse que abrir a conta em uma corretora para receber esta ação de IPO?</th>\n",
              "      <th>Se ganhasse essa ação de um IPO, você provavelmente:</th>\n",
              "      <th>Você indicaria este curso para outras pessoas?</th>\n",
              "      <th>Unnamed: 12</th>\n",
              "    </tr>\n",
              "  </thead>\n",
              "  <tbody>\n",
              "    <tr>\n",
              "      <th>0</th>\n",
              "      <td>26/09/2022 22:28:00</td>\n",
              "      <td>felipemerlo08@gmail.com</td>\n",
              "      <td>Felipe Merlo</td>\n",
              "      <td>De 18 a 25 anos.</td>\n",
              "      <td>Intermediário (Acompanho e invisto frequenteme...</td>\n",
              "      <td>Básico (Tenho pouco conhecimento)</td>\n",
              "      <td>Sim</td>\n",
              "      <td>Vídeo Aulas</td>\n",
              "      <td>5</td>\n",
              "      <td>2</td>\n",
              "      <td>Manteria a ação a médio / longo prazo</td>\n",
              "      <td>Sim</td>\n",
              "      <td>1.0</td>\n",
              "    </tr>\n",
              "    <tr>\n",
              "      <th>1</th>\n",
              "      <td>28/09/2022 19:23:10</td>\n",
              "      <td>gegeasy@gmail.com</td>\n",
              "      <td>Gustavo</td>\n",
              "      <td>De 18 a 25 anos.</td>\n",
              "      <td>Básico (Tenho pouco conhecimento mas não acomp...</td>\n",
              "      <td>Básico (Tenho pouco conhecimento)</td>\n",
              "      <td>Talvez</td>\n",
              "      <td>Em formato de jogo</td>\n",
              "      <td>4</td>\n",
              "      <td>1</td>\n",
              "      <td>Buscaria mais conhecimento e compraria mais ações</td>\n",
              "      <td>Talvez</td>\n",
              "      <td>1.0</td>\n",
              "    </tr>\n",
              "    <tr>\n",
              "      <th>2</th>\n",
              "      <td>29/09/2022 11:11:52</td>\n",
              "      <td>NaN</td>\n",
              "      <td>Kaue Caponero Figueiredo</td>\n",
              "      <td>De 26 a 35 anos.</td>\n",
              "      <td>Intermediário (Acompanho e invisto frequenteme...</td>\n",
              "      <td>Intermediário (Acompanho frequentemente)</td>\n",
              "      <td>Sim</td>\n",
              "      <td>Vídeo Aulas</td>\n",
              "      <td>5</td>\n",
              "      <td>4</td>\n",
              "      <td>Buscaria mais conhecimento e compraria mais ações</td>\n",
              "      <td>Sim</td>\n",
              "      <td>1.0</td>\n",
              "    </tr>\n",
              "    <tr>\n",
              "      <th>3</th>\n",
              "      <td>29/09/2022 11:11:55</td>\n",
              "      <td>NaN</td>\n",
              "      <td>Henrique Rodrigues Segura</td>\n",
              "      <td>De 18 a 25 anos.</td>\n",
              "      <td>Básico (Tenho pouco conhecimento mas não acomp...</td>\n",
              "      <td>Básico (Tenho pouco conhecimento)</td>\n",
              "      <td>Sim</td>\n",
              "      <td>Vídeo Aulas</td>\n",
              "      <td>5</td>\n",
              "      <td>4</td>\n",
              "      <td>Buscaria mais conhecimento e compraria mais ações</td>\n",
              "      <td>Sim</td>\n",
              "      <td>1.0</td>\n",
              "    </tr>\n",
              "    <tr>\n",
              "      <th>4</th>\n",
              "      <td>29/09/2022 11:14:25</td>\n",
              "      <td>NaN</td>\n",
              "      <td>Luiz Felipe Gadelha Melo</td>\n",
              "      <td>De 26 a 35 anos.</td>\n",
              "      <td>Básico (Tenho pouco conhecimento mas não acomp...</td>\n",
              "      <td>Básico (Tenho pouco conhecimento)</td>\n",
              "      <td>Talvez</td>\n",
              "      <td>Vídeo Aulas</td>\n",
              "      <td>5</td>\n",
              "      <td>3</td>\n",
              "      <td>Manteria a ação a médio / longo prazo</td>\n",
              "      <td>Sim</td>\n",
              "      <td>1.0</td>\n",
              "    </tr>\n",
              "  </tbody>\n",
              "</table>\n",
              "</div>\n",
              "      <button class=\"colab-df-convert\" onclick=\"convertToInteractive('df-53c2fc26-fb38-4157-afba-372f7a27f03e')\"\n",
              "              title=\"Convert this dataframe to an interactive table.\"\n",
              "              style=\"display:none;\">\n",
              "        \n",
              "  <svg xmlns=\"http://www.w3.org/2000/svg\" height=\"24px\"viewBox=\"0 0 24 24\"\n",
              "       width=\"24px\">\n",
              "    <path d=\"M0 0h24v24H0V0z\" fill=\"none\"/>\n",
              "    <path d=\"M18.56 5.44l.94 2.06.94-2.06 2.06-.94-2.06-.94-.94-2.06-.94 2.06-2.06.94zm-11 1L8.5 8.5l.94-2.06 2.06-.94-2.06-.94L8.5 2.5l-.94 2.06-2.06.94zm10 10l.94 2.06.94-2.06 2.06-.94-2.06-.94-.94-2.06-.94 2.06-2.06.94z\"/><path d=\"M17.41 7.96l-1.37-1.37c-.4-.4-.92-.59-1.43-.59-.52 0-1.04.2-1.43.59L10.3 9.45l-7.72 7.72c-.78.78-.78 2.05 0 2.83L4 21.41c.39.39.9.59 1.41.59.51 0 1.02-.2 1.41-.59l7.78-7.78 2.81-2.81c.8-.78.8-2.07 0-2.86zM5.41 20L4 18.59l7.72-7.72 1.47 1.35L5.41 20z\"/>\n",
              "  </svg>\n",
              "      </button>\n",
              "      \n",
              "  <style>\n",
              "    .colab-df-container {\n",
              "      display:flex;\n",
              "      flex-wrap:wrap;\n",
              "      gap: 12px;\n",
              "    }\n",
              "\n",
              "    .colab-df-convert {\n",
              "      background-color: #E8F0FE;\n",
              "      border: none;\n",
              "      border-radius: 50%;\n",
              "      cursor: pointer;\n",
              "      display: none;\n",
              "      fill: #1967D2;\n",
              "      height: 32px;\n",
              "      padding: 0 0 0 0;\n",
              "      width: 32px;\n",
              "    }\n",
              "\n",
              "    .colab-df-convert:hover {\n",
              "      background-color: #E2EBFA;\n",
              "      box-shadow: 0px 1px 2px rgba(60, 64, 67, 0.3), 0px 1px 3px 1px rgba(60, 64, 67, 0.15);\n",
              "      fill: #174EA6;\n",
              "    }\n",
              "\n",
              "    [theme=dark] .colab-df-convert {\n",
              "      background-color: #3B4455;\n",
              "      fill: #D2E3FC;\n",
              "    }\n",
              "\n",
              "    [theme=dark] .colab-df-convert:hover {\n",
              "      background-color: #434B5C;\n",
              "      box-shadow: 0px 1px 3px 1px rgba(0, 0, 0, 0.15);\n",
              "      filter: drop-shadow(0px 1px 2px rgba(0, 0, 0, 0.3));\n",
              "      fill: #FFFFFF;\n",
              "    }\n",
              "  </style>\n",
              "\n",
              "      <script>\n",
              "        const buttonEl =\n",
              "          document.querySelector('#df-53c2fc26-fb38-4157-afba-372f7a27f03e button.colab-df-convert');\n",
              "        buttonEl.style.display =\n",
              "          google.colab.kernel.accessAllowed ? 'block' : 'none';\n",
              "\n",
              "        async function convertToInteractive(key) {\n",
              "          const element = document.querySelector('#df-53c2fc26-fb38-4157-afba-372f7a27f03e');\n",
              "          const dataTable =\n",
              "            await google.colab.kernel.invokeFunction('convertToInteractive',\n",
              "                                                     [key], {});\n",
              "          if (!dataTable) return;\n",
              "\n",
              "          const docLinkHtml = 'Like what you see? Visit the ' +\n",
              "            '<a target=\"_blank\" href=https://colab.research.google.com/notebooks/data_table.ipynb>data table notebook</a>'\n",
              "            + ' to learn more about interactive tables.';\n",
              "          element.innerHTML = '';\n",
              "          dataTable['output_type'] = 'display_data';\n",
              "          await google.colab.output.renderOutput(dataTable, element);\n",
              "          const docLink = document.createElement('div');\n",
              "          docLink.innerHTML = docLinkHtml;\n",
              "          element.appendChild(docLink);\n",
              "        }\n",
              "      </script>\n",
              "    </div>\n",
              "  </div>\n",
              "  "
            ]
          },
          "metadata": {},
          "execution_count": 19
        }
      ],
      "source": [
        "dados.head()"
      ]
    },
    {
      "cell_type": "code",
      "source": [
        "#Gráfico de Pizza - Faixa Etária\n",
        "dados['faixa_etaria_num'] = dados['Você teria interesse em fazer um curso dinâmico gratuito sobre IPO?'].replace({\n",
        "    'Sim': 1,\n",
        "    'Talvez': 2,\n",
        "    'Não': 3,\n",
        "})\n",
        "\n",
        "labels = ['Sim', 'Talvez', 'Não',]\n",
        "plt.pie(dados.groupby('faixa_etaria_num').size(), labels=labels)\n",
        "plt.title('Você teria interesse em fazer um curso dinâmico gratuito sobre IPO?')\n",
        "plt.show()\n",
        "\n",
        "faixas_etarias_ord = dados['Você teria interesse em fazer um curso dinâmico gratuito sobre IPO?'].value_counts().index.tolist()\n",
        "plt.title('Você teria interesse em fazer um curso dinâmico gratuito sobre IPO?')\n",
        "plt.pie(dados['Você teria interesse em fazer um curso dinâmico gratuito sobre IPO?'].value_counts(),\n",
        "        labels=faixas_etarias_ord,\n",
        "        autopct='%1.1f%%')\n",
        "plt.show()"
      ],
      "metadata": {
        "colab": {
          "base_uri": "https://localhost:8080/",
          "height": 841
        },
        "id": "6y3f1TRg76sg",
        "outputId": "7f0c0a33-60c9-4b13-87c0-ebf8bccdeac9"
      },
      "id": "6y3f1TRg76sg",
      "execution_count": null,
      "outputs": [
        {
          "output_type": "display_data",
          "data": {
            "text/plain": [
              "<Figure size 640x480 with 1 Axes>"
            ],
            "image/png": "[encoded data removed]"
          },
          "metadata": {}
        },
        {
          "output_type": "display_data",
          "data": {
            "text/plain": [
              "<Figure size 640x480 with 1 Axes>"
            ],
            "image/png": "[encoded data removed]"
          },
          "metadata": {}
        }
      ]
    },
    {
      "cell_type": "code",
      "source": [
        "#Gráfico de Pizza - Faixa Etária\n",
        "dados['faixa_etaria_num'] = dados['Qual a sua faixa etária?'].replace({\n",
        "    'Menor de 18 anos.': 1,\n",
        "    'De 18 a 25 anos.': 2,\n",
        "    'De 26 a 35 anos.': 3,\n",
        "    'Acima de 35 anos.': 4\n",
        "})\n",
        "\n",
        "labels = ['Menor de 18 anos.', 'De 18 a 25 anos.', 'De 26 a 35 anos.', 'Acima de 35 anos.']\n",
        "plt.pie(dados.groupby('faixa_etaria_num').size(), labels=labels)\n",
        "plt.title('Faixa Etária')\n",
        "plt.show()\n",
        "\n",
        "faixas_etarias_ord = dados['Qual a sua faixa etária?'].value_counts().index.tolist()\n",
        "plt.title('Faixa Etária')\n",
        "\n",
        "plt.pie(dados['Qual a sua faixa etária?'].value_counts(),\n",
        "        labels=faixas_etarias_ord,\n",
        "        autopct='%1.1f%%')\n",
        "plt.show()\n",
        "\n",
        "\n"
      ],
      "metadata": {
        "colab": {
          "base_uri": "https://localhost:8080/",
          "height": 839
        },
        "id": "3Iz7CbUhp1h1",
        "outputId": "a6429fb2-97e0-430a-d75d-8660d165d2d9"
      },
      "id": "3Iz7CbUhp1h1",
      "execution_count": null,
      "outputs": [
        {
          "output_type": "display_data",
          "data": {
            "text/plain": [
              "<Figure size 640x480 with 1 Axes>"
            ],
            "image/png": "[encoded data removed]"
          },
          "metadata": {}
        },
        {
          "output_type": "display_data",
          "data": {
            "text/plain": [
              "<Figure size 640x480 with 1 Axes>"
            ],
            "image/png": "[encoded data removed]"
          },
          "metadata": {}
        }
      ]
    },
    {
      "cell_type": "code",
      "source": [
        "dados['faixa_etaria_num'] = dados['E sobre Oferta Pública Inicial (ou IPO), qual seu nível de conhecimento?\\n'].replace({\n",
        "    'Nenhum (Nunca ouvi falar)': 1,\n",
        "    'Básico (Tenho pouco conhecimento)': 2,\n",
        "    'Intermediário (Acompanho frequentemente)': 3,\n",
        "    'Avançado (Domino o IPO)': 4\n",
        "})\n",
        "\n",
        "faixa_etaria_counts = dados.groupby('faixa_etaria_num').size()\n",
        "\n",
        "faixas = ['Nenhum', 'Básico', 'Intermediário', 'Avançado']\n",
        "\n",
        "plt.bar(faixas, faixa_etaria_counts)\n",
        "\n",
        "plt.xlabel('Nível de Conhecimento sobre IPO')\n",
        "plt.ylabel('Número de respostas')\n",
        "\n",
        "plt.show()\n"
      ],
      "metadata": {
        "colab": {
          "base_uri": "https://localhost:8080/",
          "height": 449
        },
        "id": "PZBp-q62oQaC",
        "outputId": "2003b1dc-6207-4e83-ba36-6f501b977eed"
      },
      "id": "PZBp-q62oQaC",
      "execution_count": null,
      "outputs": [
        {
          "output_type": "display_data",
          "data": {
            "text/plain": [
              "<Figure size 640x480 with 1 Axes>"
            ],
            "image/png": "[encoded data removed]"
          },
          "metadata": {}
        }
      ]
    },
    {
      "cell_type": "code",
      "source": [
        "anos = ['04', '05', '06', '07', '08', '09', '10', '11', '12', '13', '14', '15', '16', '17', '18', '19', '20', '21']\n",
        "ipos = [7, 9, 26, 64, 4, 5, 11, 11, 3, 10, 1, 1, 1, 10, 3, 5, 28, 46]\n",
        "\n",
        "plt.bar(anos, ipos)\n",
        "\n",
        "plt.title('Quantidade de IPOs concluídos entre 2004 a 2021')\n",
        "\n",
        "plt.xlabel('Anos')\n",
        "plt.ylabel('Quantidade de IPOs')\n",
        "\n",
        "plt.show()\n",
        "\n",
        "#*Fonte: Ártica Investimentos, Insper e B3\n"
      ],
      "metadata": {
        "colab": {
          "base_uri": "https://localhost:8080/",
          "height": 472
        },
        "id": "p17GPx_Rwbm7",
        "outputId": "3e7428c5-ef2e-4fab-8187-3605bf07d790"
      },
      "id": "p17GPx_Rwbm7",
      "execution_count": null,
      "outputs": [
        {
          "output_type": "display_data",
          "data": {
            "text/plain": [
              "<Figure size 640x480 with 1 Axes>"
            ],
            "image/png": "[encoded data removed]"
          },
          "metadata": {}
        }
      ]
    },
    {
      "cell_type": "code",
      "source": [
        "anos = [2012, 2013, 2014, 2015, 2016, 2017, 2018, 2019, 2020, 2021]\n",
        "valores = [3.9, 16.7, 0.9, 0.8, 0.6, 18.7, 8.8, 9.8, 43.4, 63.6]\n",
        "\n",
        "plt.figure(figsize=(10, 6))\n",
        "plt.title('Volume de Captação - IPOs - Em bilhões (R$)')\n",
        "\n",
        "plt.bar(anos, valores, color=[ 'green'])\n",
        "\n",
        "plt.xlabel('Anos')\n",
        "plt.ylabel('Valores (em bilhões R$)')\n",
        "plt.xlim(min(anos), max(anos))\n",
        "plt.xticks(anos)\n",
        "\n",
        "plt.subplots_adjust(wspace=5)\n",
        "plt.xlim(min(anos)-0.5, max(anos)+0.5)\n",
        "\n",
        "plt.show()\n",
        "\n",
        "#Fonte: Anbima"
      ],
      "metadata": {
        "colab": {
          "base_uri": "https://localhost:8080/",
          "height": 564
        },
        "id": "rdQquoRl3aSt",
        "outputId": "0ed2333f-039e-4e7a-c4d5-e9b58fd3be6e"
      },
      "id": "rdQquoRl3aSt",
      "execution_count": null,
      "outputs": [
        {
          "output_type": "display_data",
          "data": {
            "text/plain": [
              "<Figure size 1000x600 with 1 Axes>"
            ],
            "image/png": "[encoded data removed]"
          },
          "metadata": {}
        }
      ]
    },
    {
      "cell_type": "markdown",
      "id": "9e611aeb",
      "metadata": {
        "id": "9e611aeb"
      },
      "source": [
        "### Exemplo 1 - Segundo passo: separar os dados\n",
        "\n",
        "Precisamos ter claro em nossas mentes quais são os atributos (colunas) preditivas, isto é, aquelas que usaremos para predizer um atributo alvo (coluna alvo). No nosso caso os **atributos preditivos são Comprimento do Abdômen e Comprimento das Antenas**, e o **atributo alvo é a Espécie** que será predita.\n",
        "\n",
        "Quando se trabalhar com Aprendizado de Máquina Supervisionado, além disso precisamos separar nossos dados em dois conjuntos: um **conjunto de treinamento** e um **conjunto de teste**. Fazemos isso para evitar overfitting do algoritmo.\n",
        "\n",
        "Existem várias estratégias para se separar dados. Vamos aplicar as principais:\n",
        "\n",
        "(a) Escolher o tamanho dos conjuntos - 80% para treinamento e 20% para teste;\n",
        "\n",
        "(b) Selecionar aleatoriamente os dados que irão compor o conjunto de treinamento e teste (usando um seed para garantir reprodutibilidade);"
      ]
    },
    {
      "cell_type": "code",
      "execution_count": null,
      "id": "c88cd724",
      "metadata": {
        "id": "c88cd724"
      },
      "outputs": [],
      "source": [
        "from sklearn.model_selection import train_test_split"
      ]
    },
    {
      "cell_type": "code",
      "execution_count": null,
      "id": "6b4633f2",
      "metadata": {
        "id": "6b4633f2"
      },
      "outputs": [],
      "source": [
        "# Escolhendo as colunas preditivas e alvo\n",
        "x = dados.drop(columns = 'Qual a sua faixa etária?') # Somente Comprimento do Abdômen e Comprimento das Antenas\n",
        "y = dados['Qual a sua faixa etária?']                # Classe alvo\n",
        "\n",
        "# Dividindo conjunto de treinamento e conjunto de teste\n",
        "x_train, x_test, y_train, y_test = train_test_split(x, y, test_size = 0.2, random_state = 42)"
      ]
    },
    {
      "cell_type": "code",
      "execution_count": null,
      "id": "8bd710b1",
      "metadata": {
        "id": "8bd710b1"
      },
      "outputs": [],
      "source": [
        "x_train.head(5)"
      ]
    },
    {
      "cell_type": "code",
      "execution_count": null,
      "id": "35dcabb7",
      "metadata": {
        "colab": {
          "base_uri": "https://localhost:8080/"
        },
        "id": "35dcabb7",
        "outputId": "c99695dd-9890-4cd0-8105-5d6184731081"
      },
      "outputs": [
        {
          "output_type": "execute_result",
          "data": {
            "text/plain": [
              "62     De 26 a 35 anos.\n",
              "26     De 18 a 25 anos.\n",
              "22    Acima de 36 anos.\n",
              "31     De 26 a 35 anos.\n",
              "45    Acima de 36 anos.\n",
              "Name: Qual a sua faixa etária?, dtype: object"
            ]
          },
          "metadata": {},
          "execution_count": 15
        }
      ],
      "source": [
        "y_train.head(5)"
      ]
    },
    {
      "cell_type": "markdown",
      "id": "c15e2fd7",
      "metadata": {
        "id": "c15e2fd7"
      },
      "source": [
        "### Exemplo 1 - Terceiro passo: transformar os dados \n",
        "\n",
        "Dependendo do algoritmo de Aprendizado de Máquina que usamos precisamos modificar os dados para que eles se adequem as premissas do algoritmo. \n",
        "\n",
        "Existem duas transformações de escalonamento muito utilizadas:\n",
        "\n",
        "1) **Nomalização** (Normalization) - Também conhecido como escalonamento Min-Max no qual o range de valores da coluna irá fica de 0 (min) até 1 (max);\n",
        "\n",
        "2) **Padronização** (Standardization) - Modifica a distribuição para que a média seja igual a zero e desvio padrão igual a 1 (o método subtrai a média de todas as entradas e dividide pelo desvio padrão); \n",
        "\n",
        "Quando escolher uma ou outra? Depende dos seus dados, seu problema e o algoritmo que você quer usar. Em alguns casos, escalonar ou não os dados não irá mudar a solução do problema! Ao longo do cursos iremos estudar alguns casos...\n",
        "\n",
        "**IMPORTANTE**: independentmente do transformador escolhido, ele deve ser fitado apenas sobre os dados de treinamento. Isto é, o treinamento do escalonador deve receber apenas os dados de treinamento x_train. Após o treinamento do escalonador, ele deverá ser usado para transformar os dados x_test também. "
      ]
    },
    {
      "cell_type": "code",
      "execution_count": null,
      "id": "be0bfaec",
      "metadata": {
        "id": "be0bfaec"
      },
      "outputs": [],
      "source": [
        "# Vamos pular essa etapa para deixar o exemplo mais simples nesse primeiro momento"
      ]
    },
    {
      "cell_type": "markdown",
      "id": "75bcf368",
      "metadata": {
        "id": "75bcf368"
      },
      "source": [
        "### Exemplo 1 - Quarto passo: treinar o algoritmo \n",
        "\n",
        "Vamos usar o conjunto de treinamento para treinar o algoritmo escolhido.\n",
        "\n",
        "Existem vários algoritmos possíveis. Cada algoritmo tem seus **hiperparâmetros** (parâmetros que devem ser escolhidos para melhorar a performance do algoritmo). Para entender os hiperparâmetros de cada algoritmo é necessário entender a fundo como aquele algoritmo funciona.\n",
        "\n",
        "Aqui vamos usar um dos algoritmos mais simples existentes, o Descriminador Linear:"
      ]
    },
    {
      "cell_type": "code",
      "execution_count": null,
      "id": "02551906",
      "metadata": {
        "id": "02551906"
      },
      "outputs": [],
      "source": [
        "from sklearn.discriminant_analysis import LinearDiscriminantAnalysis"
      ]
    },
    {
      "cell_type": "code",
      "execution_count": null,
      "id": "85865492",
      "metadata": {
        "id": "85865492"
      },
      "outputs": [],
      "source": [
        "lda = LinearDiscriminantAnalysis()  # Criamos o objeto do classificador (não mudamos nenhum hiperpârametro)\n",
        "\n",
        "lda.fit(x_train,y_train) # Treinamos o classificador passando apenas o conjunto de dados de treinamento "
      ]
    },
    {
      "cell_type": "markdown",
      "id": "b0b94188",
      "metadata": {
        "id": "b0b94188"
      },
      "source": [
        "### <font color='red'>Como sabemos se o algoritmo está bom?</font>"
      ]
    },
    {
      "cell_type": "markdown",
      "id": "f5ccd0f3",
      "metadata": {
        "id": "f5ccd0f3"
      },
      "source": [
        "### Exemplo 1 - Quinto passo: testar e avaliar \n",
        "\n",
        "Usando agora o conjunto de teste, iremos testar o classificador criado e treinando no passo anterior.\n",
        "\n",
        "Uma vez que realizamos um teste, precisamos avaliar o desempenho do nosso método. Diferentes hiperparâmetros e diferentes algoritmos podem ter um desempenho diferente. Apesar de sempre buscarmos o melhor desempenho, devemos levar em consideração outros aspectos para decidir o que é um desempenho aceitável. A primeira coisa a definir são as **métricas de desempenho** que podem ser comparadas entre diferentes algoritmos. \n",
        "\n",
        "Existem várias métricas para se medir o desempenho de um classificador: métricas de performance, métricas de tempo consumido, métricas de memória consumida, etc. Vamos focar em uma métrica de performance muito utilizada no dia a dia de trabalho: a **Matriz de Confusão** e seus índices (**Acurácia, Precisão, Recall e F1-score**)."
      ]
    },
    {
      "cell_type": "code",
      "execution_count": null,
      "id": "c57468d9",
      "metadata": {
        "id": "c57468d9"
      },
      "outputs": [],
      "source": [
        "# Perceba que estamos passando apenas o x de teste, afinal o algoritmo é que nos dira qual é o y \n",
        "y_predicoes = lda.predict(x_test) "
      ]
    },
    {
      "cell_type": "code",
      "execution_count": null,
      "id": "7ff272a1",
      "metadata": {
        "id": "7ff272a1"
      },
      "outputs": [],
      "source": [
        "y_predicoes"
      ]
    },
    {
      "cell_type": "code",
      "execution_count": null,
      "id": "8f1bdcdc",
      "metadata": {
        "id": "8f1bdcdc"
      },
      "outputs": [],
      "source": [
        "from sklearn.metrics import confusion_matrix, ConfusionMatrixDisplay, plot_confusion_matrix\n",
        "from sklearn.metrics import f1_score, accuracy_score, precision_score, recall_score, classification_report"
      ]
    },
    {
      "cell_type": "code",
      "execution_count": null,
      "id": "fa31aa96",
      "metadata": {
        "id": "fa31aa96"
      },
      "outputs": [],
      "source": [
        "matriz_confusao = confusion_matrix(y_true = y_test,\n",
        "                                   y_pred = y_predicoes,\n",
        "                                   labels=['Gafanhoto','Esperança'])"
      ]
    },
    {
      "cell_type": "code",
      "execution_count": null,
      "id": "7b98e87c",
      "metadata": {
        "id": "7b98e87c"
      },
      "outputs": [],
      "source": [
        "# plotando uma figura com a matriz de confusao\n",
        "figure = plt.figure(figsize=(15, 5))\n",
        "disp = ConfusionMatrixDisplay(confusion_matrix = matriz_confusao, display_labels=['Gafanhoto','Esperança'])\n",
        "disp.plot(values_format='d') "
      ]
    },
    {
      "cell_type": "code",
      "execution_count": null,
      "id": "672f9ef4",
      "metadata": {
        "id": "672f9ef4"
      },
      "outputs": [],
      "source": [
        "accuracy_score(y_true = y_test, y_pred = y_predicoes,) "
      ]
    },
    {
      "cell_type": "code",
      "execution_count": null,
      "id": "1a9bd52b",
      "metadata": {
        "id": "1a9bd52b"
      },
      "outputs": [],
      "source": [
        "precision_score(y_true = y_test, \n",
        "         y_pred = y_predicoes,\n",
        "         pos_label=\"Esperança\") "
      ]
    },
    {
      "cell_type": "code",
      "execution_count": null,
      "id": "dd447235",
      "metadata": {
        "id": "dd447235"
      },
      "outputs": [],
      "source": [
        "recall_score(y_true = y_test, \n",
        "         y_pred = y_predicoes,\n",
        "         pos_label=\"Esperança\") "
      ]
    },
    {
      "cell_type": "code",
      "execution_count": null,
      "id": "b1f4acd5",
      "metadata": {
        "id": "b1f4acd5"
      },
      "outputs": [],
      "source": [
        "f1_score(y_true = y_test, \n",
        "         y_pred = y_predicoes,\n",
        "         pos_label=\"Esperança\") "
      ]
    },
    {
      "cell_type": "code",
      "execution_count": null,
      "id": "e11720cb",
      "metadata": {
        "id": "e11720cb"
      },
      "outputs": [],
      "source": [
        "# Metricas de precisão, revocação, f1-score e acurácia.\n",
        "print(classification_report(y_test, y_predicoes))"
      ]
    },
    {
      "cell_type": "markdown",
      "id": "31b125b2",
      "metadata": {
        "id": "31b125b2"
      },
      "source": [
        "Vamos desenhar sobre o gráfico de dispersão o modelo matemático encontrado pelo algoritmo de Classificação LDA:"
      ]
    },
    {
      "cell_type": "code",
      "execution_count": null,
      "id": "33d49c00",
      "metadata": {
        "id": "33d49c00"
      },
      "outputs": [],
      "source": [
        "import numpy as np\n",
        "\n",
        "# São os coeficientes do nosso modelo de ML treinado\n",
        "c1, c2 = lda.coef_[0]\n",
        "b = lda.intercept_\n",
        "\n",
        "# É a equação da reta do LDA\n",
        "x1 = np.arange(0,10)\n",
        "x2 = - (c1/c2)* x1 - b/c2"
      ]
    },
    {
      "cell_type": "markdown",
      "id": "18232055",
      "metadata": {
        "id": "18232055"
      },
      "source": [
        "A fronteira de decisão entre as classes em um classificador LDA é uma linha. \n",
        "\n",
        "Toda linha tem uma função metamática associada.\n",
        "\n",
        "Podemos ver os coeficientes dessa fronteira (hiperplano ou linhas) na propriedade `coef_`.\n",
        "\n",
        "Para um problema de duas dimensões, (como o acima), temos dois coeficientes. Vamos chamar esses coeficientes de $c_1$ e $c_2$, e os atributos de $x_1$ e $x_2$, e o valor de interceptação no eixo das ordenadas de $b$. Dessa maneira, temos a equação da fronteira:  \n",
        "\n",
        "$$ c_1 x_1 + c_2 x_2  + b = 0  $$\n",
        "\n",
        "Agora, resolvedo para $x_2$, podemos obter a equação da reta: \n",
        "\n",
        "$$ x_2 =  -\\frac{c_1}{c_2}x_1 - \\frac{b}{c_2} $$"
      ]
    },
    {
      "cell_type": "code",
      "execution_count": null,
      "id": "9edf509d",
      "metadata": {
        "id": "9edf509d"
      },
      "outputs": [],
      "source": [
        "plot = sns.jointplot(data=dados, x=\"Comprimento do Abdômen\", y=\"Comprimento das Antenas\", hue = 'Espécie',\n",
        "              height=5, ratio=2, marginal_ticks=True\n",
        "             )\n",
        "plot.ax_joint.plot(x1, x2, 'r-', linewidth = 2)\n",
        "plot.ax_marg_x.axvline(x=4.5, color='k', linestyle='--')\n",
        "plot.ax_marg_y.axhline(y=5.3, color='k', linestyle='--')\n",
        "plot.ax_joint.set_xlim(0,11)\n",
        "plot.ax_joint.set_ylim(0,11)"
      ]
    },
    {
      "cell_type": "markdown",
      "id": "16eab9a9",
      "metadata": {
        "id": "16eab9a9"
      },
      "source": [
        "### Exemplo 1 - Sexto passo: Produção\n",
        "\n",
        "Se nosso algoritmo está bom e atende os requisitos de negócio, podemos colocar ele em produção. Essa etapa envolve conhecimento do tipo de dispositivo em que iremos rodar a solução.\n",
        "\n",
        "Por exemplo, iremos colocar esse modelo em um site? Precisamos trabalhar com o pessoal de backend.\n",
        "Vamos embarcar em um veículo autônomo? Time de engenharia de software e engenharia eletrônica.\n",
        "\n",
        "Esse passo inteiro transcede o escopo da nossa disciplina, já que envolve outras disciplinas e competências.\n",
        "\n",
        "Vamos contudo ver como \"baixar\" nosso modelo pronto para não precisar treina-lo novamente. Afinal, iremos empregar o algoritmo já treinado e pronto para uso em produção (a menos que estejamos usando técnicas mais sofisticadas de machine learning como Active Learning e Atualização de Modelo em Execução).\n",
        "\n",
        "A etapa de \"salvar/baixar\" o modelo pronto é chamada de **Persistência do Modelo**.  Quando usamos um modelo pronto, é comum dizer que estamos usando um **modelo pré-treinado**."
      ]
    },
    {
      "cell_type": "code",
      "execution_count": null,
      "id": "b68c83fc",
      "metadata": {
        "id": "b68c83fc"
      },
      "outputs": [],
      "source": [
        "import pickle"
      ]
    },
    {
      "cell_type": "markdown",
      "id": "5e7bde01",
      "metadata": {
        "id": "5e7bde01"
      },
      "source": [
        "Pickle é um formato de arquivo de objeto python serializado na memória permanente. Ele é análogo ao JSON para dicionários ou o CSV para tabelas, mas ele funciona para objetos python, ou seja, é muito mais abrangente!"
      ]
    },
    {
      "cell_type": "code",
      "execution_count": null,
      "id": "5e97ba4d",
      "metadata": {
        "id": "5e97ba4d"
      },
      "outputs": [],
      "source": [
        "# vamos salvar em bytes (flag wb) para ser mais cross-platform (acessível a vários sistemas)\n",
        "with open('meu_modelo_serializado.pickle', 'wb') as f: \n",
        "    pickle.dump(lda, f)"
      ]
    },
    {
      "cell_type": "markdown",
      "id": "1cbbc601",
      "metadata": {
        "id": "1cbbc601"
      },
      "source": [
        "Pronto! Nosso modelo está salvo. Se quisermos usá-lo em um código em Python, podemos simplesmente carregá-lo:"
      ]
    },
    {
      "cell_type": "code",
      "execution_count": null,
      "id": "914ebb4a",
      "metadata": {
        "id": "914ebb4a"
      },
      "outputs": [],
      "source": [
        "with open('meu_modelo_serializado.pickle', 'rb') as f:\n",
        "    modelo_carregado = pickle.load(f)"
      ]
    },
    {
      "cell_type": "code",
      "execution_count": null,
      "id": "820a9677",
      "metadata": {
        "id": "820a9677"
      },
      "outputs": [],
      "source": [
        "modelo_carregado.predict([[1,2]])"
      ]
    },
    {
      "cell_type": "markdown",
      "id": "5c339e73",
      "metadata": {
        "id": "5c339e73"
      },
      "source": [
        "Além do Pickle, o Scikit-Learn tem o método joblib que é mais eficiente para serializar modelos treinados através dessa biblioteca. Vejamos como usar esse formato de arquivo:"
      ]
    },
    {
      "cell_type": "code",
      "execution_count": null,
      "id": "7b6e616c",
      "metadata": {
        "id": "7b6e616c"
      },
      "outputs": [],
      "source": [
        "from joblib import dump, load"
      ]
    },
    {
      "cell_type": "code",
      "execution_count": null,
      "id": "241e1b8a",
      "metadata": {
        "id": "241e1b8a"
      },
      "outputs": [],
      "source": [
        "dump(lda, 'meu_modelo_serializado.joblib') "
      ]
    },
    {
      "cell_type": "code",
      "execution_count": null,
      "id": "991adc3e",
      "metadata": {
        "id": "991adc3e"
      },
      "outputs": [],
      "source": [
        "modelo_carregado2 = load('meu_modelo_serializado.joblib') "
      ]
    },
    {
      "cell_type": "code",
      "execution_count": null,
      "id": "371f97f1",
      "metadata": {
        "id": "371f97f1"
      },
      "outputs": [],
      "source": [
        "modelo_carregado2.predict([[1,2]])"
      ]
    },
    {
      "cell_type": "markdown",
      "id": "7afa969c",
      "metadata": {
        "id": "7afa969c"
      },
      "source": [
        "----------------------\n",
        "## Exemplo 2 - Botânica: Íris Dataset\n",
        "\n",
        "Esse dataset contém medidas da largura e comprimento da pétala e da sépala de **150 amostras** de flores, assim como a espécie de cada uma (*versicolor*, *setosa*, *virginica*). Mais informações: https://scikit-learn.org/stable/auto_examples/datasets/plot_iris_dataset.html.\n",
        "\n",
        "<img src=\"https://s3.amazonaws.com/assets.datacamp.com/blog_assets/Machine+Learning+R/iris-machinelearning.png\" alt=\"dieta\" width=\"600px\">"
      ]
    },
    {
      "cell_type": "markdown",
      "id": "66188fea",
      "metadata": {
        "id": "66188fea"
      },
      "source": [
        "Carregando e arrumando os dados como na Aula 15 sobre as flores Íris:\n",
        "\n",
        "Vamos realizar os mesmos procedimentos do Exemplo 1:"
      ]
    },
    {
      "cell_type": "markdown",
      "id": "d4623c47",
      "metadata": {
        "id": "d4623c47"
      },
      "source": [
        "### Exemplo 1 - Primeiro passo: Análise Exploratória"
      ]
    },
    {
      "cell_type": "code",
      "execution_count": null,
      "id": "7882b52a",
      "metadata": {
        "id": "7882b52a"
      },
      "outputs": [],
      "source": [
        "from sklearn import datasets # Para carregar dataset pronto no scikit-learn\n",
        "import pandas as pd # Para trabalhar com dados em tabelas\n",
        "\n",
        "# Para trabalhar com gráficos\n",
        "import matplotlib.pyplot as plt  \n",
        "import seaborn as sns"
      ]
    },
    {
      "cell_type": "code",
      "execution_count": null,
      "id": "05259d3e",
      "metadata": {
        "id": "05259d3e"
      },
      "outputs": [],
      "source": [
        "# Carregando os dados\n",
        "iris = datasets.load_iris()\n",
        "\n",
        "dados = pd.DataFrame(data=iris.data,  # Estamos dizendo que o dados do dataframe são o atributo data do objeto iris\n",
        "                     columns = iris.feature_names) # Já o nome das colunas do dataframe serão o atrib feature_names"
      ]
    },
    {
      "cell_type": "code",
      "execution_count": null,
      "id": "6de08294",
      "metadata": {
        "id": "6de08294"
      },
      "outputs": [],
      "source": [
        "# Aqui estamos criando uma funcao que recebe o número da classe e retorna o nome correspondente\n",
        "def mapear_nomes(numero_classe):\n",
        "    return(iris.target_names[numero_classe])"
      ]
    },
    {
      "cell_type": "code",
      "execution_count": null,
      "id": "ca8ecece",
      "metadata": {
        "id": "ca8ecece"
      },
      "outputs": [],
      "source": [
        "dados['flower'] = iris.target\n",
        "dados['flower_name'] = dados['flower'].apply(mapear_nomes)"
      ]
    },
    {
      "cell_type": "code",
      "execution_count": null,
      "id": "187d7565",
      "metadata": {
        "id": "187d7565"
      },
      "outputs": [],
      "source": [
        "dados.head()"
      ]
    },
    {
      "cell_type": "code",
      "execution_count": null,
      "id": "9236efb9",
      "metadata": {
        "id": "9236efb9"
      },
      "outputs": [],
      "source": [
        "sns.pairplot(dados.drop(columns=['flower']), hue='flower_name')"
      ]
    },
    {
      "cell_type": "code",
      "execution_count": null,
      "id": "e0a691c7",
      "metadata": {
        "id": "e0a691c7"
      },
      "outputs": [],
      "source": [
        "fig, axes = plt.subplots(2, 2, figsize=(8, 5), dpi=80)\n",
        "\n",
        "sns.histplot(ax=axes[0][0],\n",
        "            data=dados,  # Perceba que estamos passando a coluna o dataframe completo\n",
        "            x = dados['sepal length (cm)'], # E aqui estamos selecionando a coluna\n",
        "            kde=True,\n",
        "            bins=20,\n",
        "            linewidth=0.7,\n",
        "            hue = dados['flower_name'],\n",
        "            palette=[\"g\", \"r\", \"b\"]\n",
        "            )\n",
        "\n",
        "sns.histplot(ax=axes[0][1],\n",
        "            data=dados,\n",
        "            palette=[\"g\", \"r\", \"b\"],\n",
        "            x = dados['sepal width (cm)'],\n",
        "            kde=True,\n",
        "            bins=20,\n",
        "            linewidth=0.7,\n",
        "            hue = dados['flower_name']\n",
        "            )\n",
        "\n",
        "sns.histplot(ax=axes[1][0],\n",
        "            data=dados,  # Perceba que estamos passando a coluna o dataframe completo\n",
        "            x = dados['petal length (cm)'], # E aqui estamos selecionando a coluna\n",
        "            kde=True,\n",
        "            bins=20,\n",
        "            linewidth=0.7,\n",
        "            hue = dados['flower_name'],\n",
        "            palette=[\"g\", \"r\", \"b\"]\n",
        "            )\n",
        "\n",
        "sns.histplot(ax=axes[1][1],\n",
        "            data=dados,\n",
        "            palette=[\"g\", \"r\", \"b\"],\n",
        "            x = dados['petal width (cm)'],\n",
        "            kde=True,\n",
        "            bins=20,\n",
        "            linewidth=0.7,\n",
        "            hue = dados['flower_name']\n",
        "            )\n",
        "\n",
        "plt.subplots_adjust(wspace=0.2, hspace=0.4)"
      ]
    },
    {
      "cell_type": "markdown",
      "id": "4751d93e",
      "metadata": {
        "id": "4751d93e"
      },
      "source": [
        "### Exemplo 2 - Segundo passo: separar os dados"
      ]
    },
    {
      "cell_type": "code",
      "execution_count": null,
      "id": "b0c3edae",
      "metadata": {
        "id": "b0c3edae"
      },
      "outputs": [],
      "source": [
        "from sklearn.model_selection import train_test_split"
      ]
    },
    {
      "cell_type": "code",
      "execution_count": null,
      "id": "fadd9c12",
      "metadata": {
        "id": "fadd9c12"
      },
      "outputs": [],
      "source": [
        "# Escolhendo as colunas preditivas e alvo\n",
        "x = dados.drop(columns = ['flower', 'flower_name']) # Somente Comprimento do Abdômen e Comprimento das Antenas\n",
        "y = dados['flower_name']                # Classe alvo\n",
        "\n",
        "# Dividindo conjunto de treinamento e conjunto de teste\n",
        "x_train, x_test, y_train, y_test = train_test_split(x, y, test_size = 0.20, random_state = 8)"
      ]
    },
    {
      "cell_type": "markdown",
      "id": "c7c40ded",
      "metadata": {
        "id": "c7c40ded"
      },
      "source": [
        "### Exemplo 2 - Terceiro passo: transformar os dados \n",
        "\n",
        "Para mais informações sobre tipos de escalonamento, consulte:\n",
        "https://scikit-learn.org/stable/auto_examples/preprocessing/plot_all_scaling.html#sphx-glr-auto-examples-preprocessing-plot-all-scaling-py"
      ]
    },
    {
      "cell_type": "code",
      "execution_count": null,
      "id": "7db6c2d0",
      "metadata": {
        "id": "7db6c2d0"
      },
      "outputs": [],
      "source": [
        "from sklearn.preprocessing import StandardScaler, MinMaxScaler"
      ]
    },
    {
      "cell_type": "code",
      "execution_count": null,
      "id": "e4499a9d",
      "metadata": {
        "id": "e4499a9d"
      },
      "outputs": [],
      "source": [
        "# Instanciando o Escalonador\n",
        "#scaler = StandardScaler()\n",
        "scaler = MinMaxScaler()\n",
        "\n",
        "# Treinando o escalonador\n",
        "scaler.fit(x_train)\n",
        "\n",
        "# Usando o escalonador treinado para transformar os dados\n",
        "x_train_scaled = scaler.transform(x_train)\n",
        "x_test_scaled = scaler.transform(x_test)"
      ]
    },
    {
      "cell_type": "markdown",
      "id": "c0d6049f",
      "metadata": {
        "id": "c0d6049f"
      },
      "source": [
        "### Exemplo 2 - Quarto passo: treinar o algoritmo "
      ]
    },
    {
      "cell_type": "code",
      "execution_count": null,
      "id": "43c610f0",
      "metadata": {
        "id": "43c610f0"
      },
      "outputs": [],
      "source": [
        "from sklearn.discriminant_analysis import LinearDiscriminantAnalysis"
      ]
    },
    {
      "cell_type": "code",
      "execution_count": null,
      "id": "e62ff685",
      "metadata": {
        "id": "e62ff685"
      },
      "outputs": [],
      "source": [
        "lda = LinearDiscriminantAnalysis()  # Criamos o objeto do classificador (não mudamos nenhum hiperpârametro)\n",
        "\n",
        "lda.fit(x_train, y_train) # Treinamos o classificador passando apenas o conjunto de dados de treinamento "
      ]
    },
    {
      "cell_type": "markdown",
      "id": "9bb3075b",
      "metadata": {
        "id": "9bb3075b"
      },
      "source": [
        "### Exemplo 2 - Quinto passo: testar e avaliar "
      ]
    },
    {
      "cell_type": "code",
      "execution_count": null,
      "id": "fb8f0c4d",
      "metadata": {
        "id": "fb8f0c4d"
      },
      "outputs": [],
      "source": [
        "# Perceba que estamos passando apenas o x de teste, afinal o algoritmo é que nos dira qual é o y \n",
        "y_predicoes = lda.predict(x_test) "
      ]
    },
    {
      "cell_type": "code",
      "execution_count": null,
      "id": "bd3317b3",
      "metadata": {
        "id": "bd3317b3"
      },
      "outputs": [],
      "source": [
        "matriz_confusao = confusion_matrix(y_true = y_test,\n",
        "                                   y_pred = y_predicoes,\n",
        "                                   labels=iris.target_names)\n",
        "\n",
        "# plotando uma figura com a matriz de confusao\n",
        "figure = plt.figure(figsize=(15, 5))\n",
        "disp = ConfusionMatrixDisplay(confusion_matrix = matriz_confusao, display_labels=iris.target_names)\n",
        "disp.plot(values_format='d') "
      ]
    },
    {
      "cell_type": "code",
      "execution_count": null,
      "id": "6bec83eb",
      "metadata": {
        "id": "6bec83eb"
      },
      "outputs": [],
      "source": [
        "# Metricas de precisão, revocação, f1-score e acurácia.\n",
        "print(classification_report(y_test, y_predicoes))"
      ]
    },
    {
      "cell_type": "code",
      "execution_count": null,
      "id": "e217b9ea",
      "metadata": {
        "id": "e217b9ea"
      },
      "outputs": [],
      "source": [
        "# Métrica do Coeficiente Kappa de Cohen\n",
        "cohen_kappa_score(y_test, y_predicoes)"
      ]
    },
    {
      "cell_type": "markdown",
      "id": "6758884b",
      "metadata": {
        "id": "6758884b"
      },
      "source": [
        "------------------\n",
        "## <font color='red'> Atenção</fonte>:\n",
        "\n",
        "A seguir são apresentados dois exemplos com datasets de pessoas reais. \n",
        "\n",
        "Ao se trabalhar com dados de pessoas devemos considerar a origem e os preceitos **bioéticos** envolvidos em sua coleta, construção e utilização. \n",
        "\n",
        "Além disso, é boa prática que os dados estejam anonimizados. "
      ]
    },
    {
      "cell_type": "markdown",
      "id": "b889d7fc",
      "metadata": {
        "id": "b889d7fc"
      },
      "source": [
        "----------------------\n",
        "## Exemplo 3 - Diagnóstico médico: Problemas Ortopédicos na Coluna Vertebral\n",
        "\n",
        "Esse dataset contém dados sobre problemas ortopédicos na coluna vertebral, diagnosticados no Centre Médico-Chirurgical de Réadaptation des Massues, em Lyon, France. Contém 6 atributos biomecânicos para 310 entradas anonimizadas, sendo 100 de pacientes considerados sem problemas (Normal - NO), 60 de pacientes com Hérnia de Disco (Disk Hernia - DH) e 150 de pacientes com Espondilolistese (Spondylolisthesis - SL). \n",
        "\n",
        "O dataset está disponível em https://www.openml.org/d/1523\n",
        "\n",
        "\n",
        "![image-8.png](attachment:image-8.png)"
      ]
    },
    {
      "cell_type": "markdown",
      "id": "48b29922",
      "metadata": {
        "id": "48b29922"
      },
      "source": [
        "### Exemplo 3 - Primeiro passo: Carregar dados e Realizar a Análise Exploratória\n",
        "\n",
        "Para importar dados do OpenML podemos usar uma função pronta na biblioteca do Scikit-Learn:"
      ]
    },
    {
      "cell_type": "code",
      "execution_count": null,
      "id": "abc31f67",
      "metadata": {
        "id": "abc31f67"
      },
      "outputs": [],
      "source": [
        "from sklearn.datasets import fetch_openml"
      ]
    },
    {
      "cell_type": "code",
      "execution_count": null,
      "id": "7c5bcaeb",
      "metadata": {
        "id": "7c5bcaeb"
      },
      "outputs": [],
      "source": [
        "dados = fetch_openml(data_id=1523)"
      ]
    },
    {
      "cell_type": "markdown",
      "id": "5f6dd919",
      "metadata": {
        "id": "5f6dd919"
      },
      "source": [
        "Perceba que o tipo do dado continua sendo um objeto Bunch, como vimos na aula 15."
      ]
    },
    {
      "cell_type": "code",
      "execution_count": null,
      "id": "f082ce8f",
      "metadata": {
        "id": "f082ce8f"
      },
      "outputs": [],
      "source": [
        "type(dados)"
      ]
    },
    {
      "cell_type": "markdown",
      "id": "2d615cb4",
      "metadata": {
        "id": "2d615cb4"
      },
      "source": [
        "Agora que temos os dados carregamos em memória, podemos transformá-lo em um Dataframe do pandas:"
      ]
    },
    {
      "cell_type": "code",
      "execution_count": null,
      "id": "c2f46e40",
      "metadata": {
        "id": "c2f46e40"
      },
      "outputs": [],
      "source": [
        "import pandas as pd"
      ]
    },
    {
      "cell_type": "code",
      "execution_count": null,
      "id": "94317a07",
      "metadata": {
        "id": "94317a07"
      },
      "outputs": [],
      "source": [
        "df = pd.DataFrame(dados.data,columns=dados.feature_names) "
      ]
    },
    {
      "cell_type": "code",
      "execution_count": null,
      "id": "147232a9",
      "metadata": {
        "id": "147232a9"
      },
      "outputs": [],
      "source": [
        "df.head()"
      ]
    },
    {
      "cell_type": "markdown",
      "id": "ce4328a8",
      "metadata": {
        "id": "ce4328a8"
      },
      "source": [
        "Vamos adicionar a coluna de target na frente.\n",
        "\n",
        "Perceba, entretanto, que o atributo target_names do Bunch dados não nos é útil. Vamos precisar encontrar o diagnóstico representado por cada número de outra forma. Por sorte, temos a informação de quantas entradas são para cada classe e podemos usar isso para mapear os nomes corretos: "
      ]
    },
    {
      "cell_type": "code",
      "execution_count": null,
      "id": "97a4797d",
      "metadata": {
        "id": "97a4797d"
      },
      "outputs": [],
      "source": [
        "dados.target_names"
      ]
    },
    {
      "cell_type": "code",
      "execution_count": null,
      "id": "db4cbba6",
      "metadata": {
        "id": "db4cbba6"
      },
      "outputs": [],
      "source": [
        "list(dados.target).count('1')"
      ]
    },
    {
      "cell_type": "code",
      "execution_count": null,
      "id": "7df0123b",
      "metadata": {
        "id": "7df0123b"
      },
      "outputs": [],
      "source": [
        "list(dados.target).count('2')"
      ]
    },
    {
      "cell_type": "code",
      "execution_count": null,
      "id": "cfa59079",
      "metadata": {
        "id": "cfa59079"
      },
      "outputs": [],
      "source": [
        "list(dados.target).count('3')"
      ]
    },
    {
      "cell_type": "code",
      "execution_count": null,
      "id": "2dab92bb",
      "metadata": {
        "id": "2dab92bb"
      },
      "outputs": [],
      "source": [
        "target_map={\n",
        "    '1':'Disk Hernia',\n",
        "    '2':'Normal',\n",
        "    '3':'Spondylolisthesis'\n",
        "}   "
      ]
    },
    {
      "cell_type": "code",
      "execution_count": null,
      "id": "83d9d312",
      "metadata": {
        "id": "83d9d312"
      },
      "outputs": [],
      "source": [
        "df['diagnostic'] = [target_map[target] for target in dados.target]"
      ]
    },
    {
      "cell_type": "code",
      "execution_count": null,
      "id": "818bd9a9",
      "metadata": {
        "id": "818bd9a9"
      },
      "outputs": [],
      "source": [
        "df.head(3)"
      ]
    },
    {
      "cell_type": "markdown",
      "id": "2cbd1b79",
      "metadata": {
        "id": "2cbd1b79"
      },
      "source": [
        "Vamos gerar algumas estatísticas e visualizações exploratórias dos dados:"
      ]
    },
    {
      "cell_type": "code",
      "execution_count": null,
      "id": "e162c1f5",
      "metadata": {
        "id": "e162c1f5"
      },
      "outputs": [],
      "source": [
        "import seaborn as sns"
      ]
    },
    {
      "cell_type": "code",
      "execution_count": null,
      "id": "701cfb3c",
      "metadata": {
        "id": "701cfb3c"
      },
      "outputs": [],
      "source": [
        "sns.pairplot(df, hue='diagnostic')"
      ]
    },
    {
      "cell_type": "code",
      "execution_count": null,
      "id": "82e1b690",
      "metadata": {
        "id": "82e1b690"
      },
      "outputs": [],
      "source": [
        "df.groupby('diagnostic').mean()"
      ]
    },
    {
      "cell_type": "code",
      "execution_count": null,
      "id": "d2ae2d27",
      "metadata": {
        "id": "d2ae2d27"
      },
      "outputs": [],
      "source": [
        "df.groupby('diagnostic').std()"
      ]
    },
    {
      "cell_type": "markdown",
      "id": "3193cd16",
      "metadata": {
        "id": "3193cd16"
      },
      "source": [
        "### Exemplo 3 - Segundo passo: separar os dados"
      ]
    },
    {
      "cell_type": "code",
      "execution_count": null,
      "id": "e01ccb4e",
      "metadata": {
        "id": "e01ccb4e"
      },
      "outputs": [],
      "source": [
        "from sklearn.model_selection import train_test_split"
      ]
    },
    {
      "cell_type": "code",
      "execution_count": null,
      "id": "8bce3b84",
      "metadata": {
        "id": "8bce3b84"
      },
      "outputs": [],
      "source": [
        "# Escolhendo as colunas preditivas e alvo\n",
        "x = df.drop(columns = ['diagnostic']) # Somente Comprimento do Abdômen e Comprimento das Antenas\n",
        "y = df['diagnostic']                # Classe alvo\n",
        "\n",
        "# Dividindo conjunto de treinamento e conjunto de teste\n",
        "x_train, x_test, y_train, y_test = train_test_split(x, y, test_size = 0.20, random_state = 8)"
      ]
    },
    {
      "cell_type": "markdown",
      "id": "8cd6bca8",
      "metadata": {
        "id": "8cd6bca8"
      },
      "source": [
        "### Exemplos 3 - Terceiro passo: transformar dados"
      ]
    },
    {
      "cell_type": "code",
      "execution_count": null,
      "id": "4ac62afa",
      "metadata": {
        "id": "4ac62afa"
      },
      "outputs": [],
      "source": [
        "# Instanciando o Escalonador\n",
        "#scaler = StandardScaler()\n",
        "scaler = MinMaxScaler()\n",
        "\n",
        "# Treinando o escalonador\n",
        "scaler.fit(x_train)\n",
        "\n",
        "# Usando o escalonador treinado para transformar os dados\n",
        "x_train_scaled = scaler.transform(x_train)\n",
        "x_test_scaled = scaler.transform(x_test)"
      ]
    },
    {
      "cell_type": "markdown",
      "id": "ae828e0f",
      "metadata": {
        "id": "ae828e0f"
      },
      "source": [
        "### Exemplo 3 - Quarto passo: treinar o algoritmo "
      ]
    },
    {
      "cell_type": "code",
      "execution_count": null,
      "id": "f8ce884b",
      "metadata": {
        "id": "f8ce884b"
      },
      "outputs": [],
      "source": [
        "from sklearn.discriminant_analysis import LinearDiscriminantAnalysis"
      ]
    },
    {
      "cell_type": "code",
      "execution_count": null,
      "id": "3315fd55",
      "metadata": {
        "id": "3315fd55"
      },
      "outputs": [],
      "source": [
        "lda = LinearDiscriminantAnalysis()  # Criamos o objeto do classificador (não mudamos nenhum hiperpârametro)\n",
        "\n",
        "lda.fit(x_train_scaled, y_train) # Treinamos o classificador passando apenas o conjunto de dados de treinamento "
      ]
    },
    {
      "cell_type": "markdown",
      "id": "b077f326",
      "metadata": {
        "id": "b077f326"
      },
      "source": [
        "### Exemplo 3 - Quinto passo: testar e avaliar "
      ]
    },
    {
      "cell_type": "code",
      "execution_count": null,
      "id": "be3c6714",
      "metadata": {
        "id": "be3c6714"
      },
      "outputs": [],
      "source": [
        "import matplotlib.pyplot as plt\n",
        "from sklearn.metrics import confusion_matrix, ConfusionMatrixDisplay\n",
        "from sklearn.metrics import f1_score, accuracy_score, precision_score, recall_score, classification_report"
      ]
    },
    {
      "cell_type": "code",
      "execution_count": null,
      "id": "54c6b4a6",
      "metadata": {
        "id": "54c6b4a6"
      },
      "outputs": [],
      "source": [
        "# Perceba que estamos passando apenas o x de teste, afinal o algoritmo é que nos dira qual é o y \n",
        "y_predicoes = lda.predict(x_test_scaled) "
      ]
    },
    {
      "cell_type": "code",
      "execution_count": null,
      "id": "8d64062a",
      "metadata": {
        "id": "8d64062a"
      },
      "outputs": [],
      "source": [
        "matriz_confusao = confusion_matrix(y_true = y_test,\n",
        "                                   y_pred = y_predicoes,\n",
        "                                   labels=['Disk Hernia','Normal','Spondylolisthesis'])\n",
        "\n",
        "# plotando uma figura com a matriz de confusao\n",
        "figure = plt.figure(figsize=(15, 5))\n",
        "disp = ConfusionMatrixDisplay(confusion_matrix = matriz_confusao, \n",
        "                              display_labels=['Disk Hernia','Normal','Spondylolisthesis'])\n",
        "disp.plot(values_format='d') "
      ]
    },
    {
      "cell_type": "code",
      "execution_count": null,
      "id": "aa809d05",
      "metadata": {
        "id": "aa809d05"
      },
      "outputs": [],
      "source": [
        "# Metricas de precisão, revocação, f1-score e acurácia.\n",
        "print(classification_report(y_test, y_predicoes))"
      ]
    },
    {
      "cell_type": "code",
      "execution_count": null,
      "id": "9db5d56e",
      "metadata": {
        "id": "9db5d56e"
      },
      "outputs": [],
      "source": [
        "# Métrica do Coeficiente Kappa de Cohen\n",
        "cohen_kappa_score(y_test, y_predicoes)"
      ]
    },
    {
      "cell_type": "markdown",
      "id": "be5337b0",
      "metadata": {
        "id": "be5337b0"
      },
      "source": [
        "Obtivemos, no geral, uma acurácia baixa.\n",
        "\n",
        "Além disso nosso Recall em relação a Hérnia de Disco é muito baixo (temos muitos falsos negativos - pacientes que não tem hérnia de disco classificados com hérnia de disco);\n",
        "\n",
        "Nossa precisão para Normal também está baixa (temos muito falsos positivos - pacientes classificados como normal mas que tem algum problema);\n",
        "\n",
        "Precisamos voltar ao **Passo 4** e mexer nos hiperparâmetros do nosso algoritmo ou escolher outro algoritmo de classificação. Vejamos outros algoritmos:"
      ]
    },
    {
      "cell_type": "markdown",
      "id": "f3cab496",
      "metadata": {
        "id": "f3cab496"
      },
      "source": [
        "### Exemplo 3 - De volta ao passo 4:"
      ]
    },
    {
      "cell_type": "code",
      "execution_count": null,
      "id": "9579adb8",
      "metadata": {
        "id": "9579adb8"
      },
      "outputs": [],
      "source": [
        "# Naive Bayes Gaussiano\n",
        "from sklearn.naive_bayes import GaussianNB\n",
        "\n",
        "# Passo 4 - Treinar o Classificador\n",
        "gnb = GaussianNB()  # Criamos o objeto do classificador (não mudamos nenhum hiperpârametro)\n",
        "gnb.fit(x_train, y_train) # Treinamos o classificador passando apenas o conjunto de dados de treinamento \n",
        "\n",
        "# Passo 5 - Testar o Classificador\n",
        "y_predicoes = gnb.predict(x_test) \n",
        "\n",
        "# Metricas de precisão, revocação, f1-score e acurácia.\n",
        "print(classification_report(y_test, y_predicoes))"
      ]
    },
    {
      "cell_type": "code",
      "execution_count": null,
      "id": "bc4f9f6f",
      "metadata": {
        "id": "bc4f9f6f"
      },
      "outputs": [],
      "source": [
        "# k-vizinhos mais próximos (KNN)\n",
        "from sklearn.neighbors import KNeighborsClassifier\n",
        "\n",
        "# Passo 4 - Treinar o Classificador\n",
        "knn = KNeighborsClassifier() # Criando classificador (sem nenhum hiperparametro)\n",
        "knn.fit(x_train, y_train) # Treinamos o classificador passando apenas o conjunto de dados de treinamento \n",
        "\n",
        "# Passo 5 - Testar o Classificador\n",
        "y_predicoes = knn.predict(x_test) \n",
        "\n",
        "# Metricas de precisão, revocação, f1-score e acurácia.\n",
        "print(classification_report(y_test, y_predicoes))"
      ]
    },
    {
      "cell_type": "code",
      "execution_count": null,
      "id": "213a3bc0",
      "metadata": {
        "id": "213a3bc0"
      },
      "outputs": [],
      "source": [
        "# Árvore de Decisão\n",
        "from sklearn.tree import DecisionTreeClassifier\n",
        "\n",
        "# Passo 4 - Treinar o Classificador\n",
        "dtree = DecisionTreeClassifier() # Criando classificador (sem nenhum hiperparametro)\n",
        "dtree.fit(x_train, y_train) # Treinamos o classificador passando apenas o conjunto de dados de treinamento \n",
        "\n",
        "# Passo 5 - Testar o Classificador\n",
        "y_predicoes = dtree.predict(x_test) \n",
        "\n",
        "# Metricas de precisão, revocação, f1-score e acurácia.\n",
        "print(classification_report(y_test, y_predicoes))"
      ]
    },
    {
      "cell_type": "code",
      "execution_count": null,
      "id": "1531f143",
      "metadata": {
        "id": "1531f143"
      },
      "outputs": [],
      "source": [
        "# RandomForest\n",
        "from sklearn.ensemble import RandomForestClassifier\n",
        "\n",
        "# Passo 4 - Treinar o Classificador\n",
        "rf = RandomForestClassifier(random_state=42) # Criando classificador (hiperparametro de seed)\n",
        "rf.fit(x_train, y_train) # Treinamos o classificador passando apenas o conjunto de dados de treinamento \n",
        "\n",
        "# Passo 5 - Testar o Classificador\n",
        "y_predicoes = rf.predict(x_test) \n",
        "\n",
        "# Metricas de precisão, revocação, f1-score e acurácia.\n",
        "print(classification_report(y_test, y_predicoes))"
      ]
    },
    {
      "cell_type": "code",
      "execution_count": null,
      "id": "1e0c77c2",
      "metadata": {
        "id": "1e0c77c2"
      },
      "outputs": [],
      "source": [
        "# Máquina de Vetor Suporte\n",
        "from sklearn.svm import SVC\n",
        "\n",
        "# Passo 4 - Treinar o Classificador\n",
        "svm = SVC() # Criando classificador (sem nenhum hiperparametro)\n",
        "svm.fit(x_train, y_train) # Treinamos o classificador passando apenas o conjunto de dados de treinamento \n",
        "\n",
        "# Passo 5 - Testar o Classificador\n",
        "y_predicoes = svm.predict(x_test) \n",
        "\n",
        "# Metricas de precisão, revocação, f1-score e acurácia.\n",
        "print(classification_report(y_test, y_predicoes))"
      ]
    },
    {
      "cell_type": "code",
      "execution_count": null,
      "id": "869c24ef",
      "metadata": {
        "id": "869c24ef"
      },
      "outputs": [],
      "source": [
        "# Regressão Logística \n",
        "from sklearn.linear_model import LogisticRegression\n",
        "\n",
        "# Passo 4 - Treinar o Classificador\n",
        "logreg = LogisticRegression() # Criando classificador (sem nenhum hiperparametro)\n",
        "logreg.fit(x_train, y_train) # Treinamos o classificador passando apenas o conjunto de dados de treinamento \n",
        "\n",
        "# Passo 5 - Testar o Classificador\n",
        "y_predicoes = logreg.predict(x_test) \n",
        "\n",
        "# Metricas de precisão, revocação, f1-score e acurácia.\n",
        "print(classification_report(y_test, y_predicoes))"
      ]
    },
    {
      "cell_type": "markdown",
      "id": "c2ff4d37",
      "metadata": {
        "id": "c2ff4d37"
      },
      "source": [
        "Nós testamos diferentes algoritmos de classificação. \n",
        "\n",
        "Perceba que a forma básica de todos eles é extremamente igual.\n",
        "\n",
        "Os nuances começam a aparecer quando olhamos em mais detalhes os hiperparâmetros e como cada algoritmo funciona internamente.\n",
        "\n",
        "Entre na documentação de cada um dos classificadores e tente usar diferentes hiperparâmetros para ver se você consegue melhorar a performance de algum deles.\n",
        "\n",
        "Outra coisa é que certos algoritmos funcionam melhor se os dados fornecidos seguirem determinadas propriedades. Por isso é muito comum fazer uma etapa de pré-processamento dos dados na qual os dados são **transformados** para seguir determinada característica. É nesta etapa que fazemos os **escalonamento** dos dados. Volte ao **passo 3** e veja se o escalonamento influencia a resultado para cada um dos algoritmos testados.\n",
        "\n",
        "Outro ponto é que podemos realizar uma busca exaustiva sobre quais são os melhores hipeparâmetros. Técnicas comuns para se fazer isso são o **GridSearch**, o **RandomSearch**, e a **Validação Cruzada**. "
      ]
    },
    {
      "cell_type": "markdown",
      "id": "b895d716",
      "metadata": {
        "id": "b895d716"
      },
      "source": [
        "----------------------\n",
        "## Exercício - Diagnóstico médico: Diabetes no povo Pima\n",
        "\n",
        "Esse dataset contém dados sobre incidência de diabetes em mulheres do Povo Pima (índios nativos norte americanos originários do atual Estado do Arizona). Contém 8 atributos biomédicos para 768 entradas anonimizadas, sendo 500 testados negativo para diabetes e 268 testados positivo para diabetes.\n",
        "\n",
        "O dataset está disponível em https://www.openml.org/d/37.\n",
        "\n",
        "![image-6.png](attachment:image-6.png)"
      ]
    },
    {
      "cell_type": "markdown",
      "id": "cf90323a",
      "metadata": {
        "id": "cf90323a"
      },
      "source": [
        "São 8 atributos mais a classe (onde 1 significa que testou positivo para diabetes):\n",
        "- **preg** Number of times pregnant\n",
        "- **plas** Plasma glucose concentration a 2 hours in an oral glucose tolerance test\n",
        "- **pres** Diastolic blood pressure (mm Hg)\n",
        "- **skin** Triceps skin fold thickness (mm)\n",
        "- **insu** 2-Hour serum insulin (mu U/mL)\n",
        "- **mass** Body mass index (weight in kg/ height in m²)\n",
        "- **pedi** Diabetes pedigree function\n",
        "- **age** Age (years)\n",
        "- **Class** variable (0 or 1)"
      ]
    },
    {
      "cell_type": "markdown",
      "id": "71c599e3",
      "metadata": {
        "id": "71c599e3"
      },
      "source": [
        "### Exercício 4.1: Faça análise exploratória dos dados"
      ]
    },
    {
      "cell_type": "code",
      "execution_count": null,
      "id": "a4ecb784",
      "metadata": {
        "id": "a4ecb784"
      },
      "outputs": [],
      "source": [
        "## Coloque seu código aqui"
      ]
    },
    {
      "cell_type": "markdown",
      "id": "fe80f1f4",
      "metadata": {
        "id": "fe80f1f4"
      },
      "source": [
        "### Exercício 4.2: Crie um classificador que prediz se uma determinada mulher tem ou não um diagnostico positivo para diabetes. Qual foi o melhor modelo (em acurácia) que você conseguiur criar?"
      ]
    },
    {
      "cell_type": "code",
      "execution_count": null,
      "id": "f12363a9",
      "metadata": {
        "id": "f12363a9"
      },
      "outputs": [],
      "source": [
        "## Coloque seu código aqui"
      ]
    }
  ],
  "metadata": {
    "kernelspec": {
      "display_name": "Python 3",
      "language": "python",
      "name": "python3"
    },
    "language_info": {
      "codemirror_mode": {
        "name": "ipython",
        "version": 3
      },
      "file_extension": ".py",
      "mimetype": "text/x-python",
      "name": "python",
      "nbconvert_exporter": "python",
      "pygments_lexer": "ipython3",
      "version": "3.9.5"
    },
    "colab": {
      "provenance": [],
      "include_colab_link": true
    }
  },
  "nbformat": 4,
  "nbformat_minor": 5
}